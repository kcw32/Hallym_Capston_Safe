{
 "cells": [
  {
   "cell_type": "code",
   "execution_count": 5,
   "metadata": {
    "scrolled": true
   },
   "outputs": [
    {
     "name": "stdout",
     "output_type": "stream",
     "text": [
      "움직임 감지!!\n",
      "움직임 감지!! 위험감지!! 녹화시작!!\n"
     ]
    }
   ],
   "source": [
    "import cv2\n",
    "import numpy as np\n",
    "import time\n",
    "import datetime\n",
    "\n",
    "cap = cv2.VideoCapture(\"C:\\\\Users\\\\newxe\\\\Downloads\\\\KakaoTalk_Video_20200504_1952_21_005.mp4\")\n",
    "\n",
    "\n",
    "fgbg = cv2.createBackgroundSubtractorMOG2(varThreshold=100)\n",
    "fourcc = cv2.VideoWriter_fourcc(*'XVID')\n",
    "flag = 0\n",
    "start = False\n",
    "record = False\n",
    "move = False\n",
    "re = 0\n",
    "restart = False\n",
    "start_time = time.time()\n",
    "\n",
    "while(1):\n",
    "    ret, frame = cap.read()\n",
    "    \n",
    "    fgmask = fgbg.apply(frame)\n",
    "    nlabels, labels, stats, centroids = cv2.connectedComponentsWithStats(fgmask)\n",
    " \n",
    "    result_time = time.time() - start_time\n",
    "    str = \"time : %d\"%result_time\n",
    "    cv2.putText(frame, str, (0, 10), cv2.FONT_HERSHEY_PLAIN, 1, (0, 0, 255))\n",
    "\n",
    "    \n",
    "    for index, centroid in enumerate(centroids):\n",
    "        if stats[index][0] == 0 and stats[index][1] == 0:\n",
    "            continue\n",
    "        if np.any(np.isnan(centroid)):\n",
    "            continue\n",
    "\n",
    "\n",
    "        x, y, width, height, area = stats[index]\n",
    "        centerX, centerY = int(centroid[0]), int(centroid[1])\n",
    "        \n",
    "        \n",
    "        if area > 500:\n",
    "            #cv2.circle(frame, (centerX, centerY), 1, (0, 255, 0), 2)\n",
    "            #cv2.rectangle(frame, (x, y), (x + width, y + height), (0, 0, 255))\n",
    "            flag = 1\n",
    "            re = 1\n",
    "\n",
    "    if ret == False:\n",
    "        break\n",
    "        \n",
    "    cv2.imshow('mask',fgmask)\n",
    "    cv2.imshow('frame',frame)\n",
    "\n",
    "    k = cv2.waitKey(25) & 0xff\n",
    "    if k == 27:\n",
    "        break\n",
    "    elif result_time >= 5.0 and start == False and flag == 0:\n",
    "        record = True\n",
    "        video = cv2.VideoWriter(\"C:\\\\Users\\\\newxe\\\\Downloads\\\\5초 경과 녹화시작\" + \".avi\", fourcc, 20.0, (frame.shape[1], frame.shape[0]))\n",
    "        print('5초 경과!! 움직임 없음!! 위험감지!! 녹화시작!!')\n",
    "        start = True\n",
    "    elif re == 1 and restart == False: \n",
    "            record = False\n",
    "            if start == True:\n",
    "                video.release()\n",
    "            move = True\n",
    "            restart = True\n",
    "            print('움직임 감지!!')\n",
    "            \n",
    "    elif flag == 1 and move == True:\n",
    "        record = True\n",
    "        video = cv2.VideoWriter(\"C:\\\\Users\\\\newxe\\\\Downloads\\\\움직임감지 녹화시작\" + \".avi\", fourcc, 20.0, (frame.shape[1], frame.shape[0]))\n",
    "        print('움직임 감지!! 위험감지!! 녹화시작!!')\n",
    "        move = False\n",
    "    \n",
    "    if record == True:\n",
    "        video.write(frame)    \n",
    "        \n",
    "cap.release()\n",
    "cv2.destroyAllWindows()"
   ]
  },
  {
   "cell_type": "code",
   "execution_count": null,
   "metadata": {},
   "outputs": [],
   "source": []
  },
  {
   "cell_type": "code",
   "execution_count": null,
   "metadata": {},
   "outputs": [],
   "source": []
  }
 ],
 "metadata": {
  "kernelspec": {
   "display_name": "Python 3",
   "language": "python",
   "name": "python3"
  },
  "language_info": {
   "codemirror_mode": {
    "name": "ipython",
    "version": 3
   },
   "file_extension": ".py",
   "mimetype": "text/x-python",
   "name": "python",
   "nbconvert_exporter": "python",
   "pygments_lexer": "ipython3",
   "version": "3.7.4"
  }
 },
 "nbformat": 4,
 "nbformat_minor": 2
}
