{
 "cells": [
  {
   "cell_type": "code",
   "execution_count": 51,
   "metadata": {},
   "outputs": [],
   "source": [
    "import os, re, glob \n",
    "import cv2  #openCV 라이브러리 import하기\n",
    "import numpy as np \n",
    "import shutil \n",
    "from numpy import argmax \n",
    "from keras.models import load_model "
   ]
  },
  {
   "cell_type": "code",
   "execution_count": 52,
   "metadata": {},
   "outputs": [],
   "source": [
    "categories = [\"toilet\", \"etc\"] "
   ]
  },
  {
   "cell_type": "code",
   "execution_count": 53,
   "metadata": {},
   "outputs": [],
   "source": [
    "def Dataization(img_path): \n",
    "    image_w = 28 \n",
    "    image_h = 28 \n",
    "    img = cv2.imread(img_path) \n",
    "    img = cv2.resize(img, None, fx=image_w/img.shape[1], fy=image_h/img.shape[0]) \n",
    "    \n",
    "    return (img/256) \n",
    "  "
   ]
  },
  {
   "cell_type": "code",
   "execution_count": 54,
   "metadata": {},
   "outputs": [
    {
     "name": "stdout",
     "output_type": "stream",
     "text": [
      "0.jpg : toilet\n",
      "1.jpg : toilet\n",
      "10.jpg : toilet\n",
      "12.jpg : toilet\n",
      "2.jpg : toilet\n",
      "3.jpg : toilet\n",
      "4.jpg : toilet\n",
      "5.jpg : toilet\n",
      "6.jpg : toilet\n",
      "7.jpg : toilet\n",
      "8.jpg : toilet\n",
      "9.jpg : toilet\n",
      "KakaoTalk_20170908_003818946.jpg : toilet\n",
      "KakaoTalk_20170908_004906766.jpg : toilet\n",
      "KakaoTalk_20180104_161928366.jpg : toilet\n"
     ]
    }
   ],
   "source": [
    "\n",
    "src = [] \n",
    "name = [] \n",
    "test = [] \n",
    "image_dir = \"C:/Users/user/Downloads/test/\"\n",
    "\n",
    "for file in os.listdir(image_dir): \n",
    "    if (file.find('.jpg') is not -1):       \n",
    "        src.append(image_dir + file) \n",
    "        name.append(file) \n",
    "        test.append(Dataization(image_dir + file)) \n",
    "  \n",
    "  \n",
    "test = np.array(test) \n",
    "model = load_model('cnnModel_25.h5') #사용할 모델 불러오기\n",
    "predict = model.predict_classes(test) \n",
    "  \n",
    "for i in range(len(test)): \n",
    "    print(name[i] + \" : \"+ str(categories[predict[i]]))"
   ]
  },
  {
   "cell_type": "code",
   "execution_count": null,
   "metadata": {},
   "outputs": [],
   "source": []
  }
 ],
 "metadata": {
  "kernelspec": {
   "display_name": "Python 3",
   "language": "python",
   "name": "python3"
  },
  "language_info": {
   "codemirror_mode": {
    "name": "ipython",
    "version": 3
   },
   "file_extension": ".py",
   "mimetype": "text/x-python",
   "name": "python",
   "nbconvert_exporter": "python",
   "pygments_lexer": "ipython3",
   "version": "3.7.6"
  }
 },
 "nbformat": 4,
 "nbformat_minor": 4
}
