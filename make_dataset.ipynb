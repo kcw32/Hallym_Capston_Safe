import os, re, glob
import cv2
import numpy as np
from sklearn.model_selection import train_test_split

pip install opencv-python

imagePath = 'C:/Users/user/Desktop'
categories = ["toilet","etc"]
nb_classes = len(categories)

image_w = 28
image_h = 28

X = []
Y = []


for idx, cate in enumerate(categories):
    label = [0 for i in range(nb_classes)]
    print(label)
    label[idx] = 1
    print(label)
    image_dir = imagePath+'/'+cate+'/'
    print(image_dir)
    for top, dir, f in os.walk(image_dir):
        for filename in f:
            print(image_dir+filename)
            img = cv2.imread(image_dir+filename)  
            img = cv2.resize(img, None, fx=image_w/img.shape[1], fy=image_h/img.shape[0])  
            X.append(img/256)  
            Y.append(label)
            
X = np.array(X)
Y = np.array(Y)

X_train, X_test, Y_train, Y_test = train_test_split(X,Y)  
xy = (X_train, X_test, Y_train, Y_test)

xy # 확인

np.save("./toiletDataList.npy", xy) # 저장
